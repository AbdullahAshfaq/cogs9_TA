{
  "cells": [
    {
      "cell_type": "markdown",
      "metadata": {
        "id": "MtAQo16U81T0"
      },
      "source": [
        "# Python Basics"
      ]
    },
    {
      "cell_type": "code",
      "execution_count": 1,
      "metadata": {
        "id": "Yx1Zk4jL40rP"
      },
      "outputs": [],
      "source": [
        "# Introduce Colab Environment"
      ]
    },
    {
      "cell_type": "code",
      "execution_count": 32,
      "metadata": {},
      "outputs": [
        {
          "name": "stdout",
          "output_type": "stream",
          "text": [
            "3\n"
          ]
        }
      ],
      "source": [
        "x=3\n",
        "print(x)"
      ]
    },
    {
      "cell_type": "code",
      "execution_count": 2,
      "metadata": {
        "colab": {
          "base_uri": "https://localhost:8080/"
        },
        "id": "k-aovu2K8eKW",
        "outputId": "85056172-53ae-449f-93bd-f76a16f32d53"
      },
      "outputs": [
        {
          "name": "stdout",
          "output_type": "stream",
          "text": [
            "Hello World\n"
          ]
        }
      ],
      "source": [
        "print(\"Hello World\")"
      ]
    },
    {
      "cell_type": "code",
      "execution_count": 35,
      "metadata": {
        "colab": {
          "base_uri": "https://localhost:8080/"
        },
        "id": "SM_apn57-J2v",
        "outputId": "4af83625-93f8-4ad1-ca9a-d20c24426474"
      },
      "outputs": [
        {
          "name": "stdout",
          "output_type": "stream",
          "text": [
            "Hello Abdullah!\n"
          ]
        }
      ],
      "source": [
        "placeholder = \"Abdullah\"\n",
        "# print(f\"{placeholder}\")\n",
        "print(f\"Hello {placeholder}!\")   # f\"\"\""
      ]
    },
    {
      "cell_type": "markdown",
      "metadata": {
        "id": "jEJivvbI9Q5F"
      },
      "source": [
        "### Keywords\n",
        "Can't be used as variable names. e.g `and,as,break,for,elif,else` as these have special meaning in Python. Each programming language has it's own set of keywords.\n",
        "\n",
        "**Other keywords**: https://www.w3schools.com/python/python_ref_keywords.asp"
      ]
    },
    {
      "cell_type": "code",
      "execution_count": 36,
      "metadata": {
        "colab": {
          "base_uri": "https://localhost:8080/"
        },
        "id": "YnBi9S8F8eNJ",
        "outputId": "47bdfabc-1037-45d1-a4bc-6d9f96791573"
      },
      "outputs": [
        {
          "ename": "SyntaxError",
          "evalue": "invalid syntax (220026404.py, line 5)",
          "output_type": "error",
          "traceback": [
            "\u001b[1;36m  Cell \u001b[1;32mIn[36], line 5\u001b[1;36m\u001b[0m\n\u001b[1;33m    and = 3\u001b[0m\n\u001b[1;37m    ^\u001b[0m\n\u001b[1;31mSyntaxError\u001b[0m\u001b[1;31m:\u001b[0m invalid syntax\n"
          ]
        }
      ],
      "source": [
        "# Variables and datatypes\n",
        "str_val = \"Hello\"\n",
        "int_val = 22\n",
        "float_val = 21.21\n",
        "\n",
        "print(type(str_val)) # type() is a function"
      ]
    },
    {
      "cell_type": "code",
      "execution_count": 37,
      "metadata": {},
      "outputs": [
        {
          "data": {
            "text/plain": [
              "int"
            ]
          },
          "execution_count": 37,
          "metadata": {},
          "output_type": "execute_result"
        }
      ],
      "source": [
        "type(x)"
      ]
    },
    {
      "cell_type": "code",
      "execution_count": 47,
      "metadata": {
        "colab": {
          "base_uri": "https://localhost:8080/"
        },
        "id": "VmuH0pO38uj2",
        "outputId": "0d158033-b5d4-404f-f2ce-0b4b106d902a"
      },
      "outputs": [
        {
          "data": {
            "text/plain": [
              "[1, 2, 3, 2.2, 'World']"
            ]
          },
          "execution_count": 47,
          "metadata": {},
          "output_type": "execute_result"
        }
      ],
      "source": [
        "# Data Structures\n",
        "## List\n",
        "lst = [1,2,3,2.2,\"World\"]\n",
        "lst"
      ]
    },
    {
      "cell_type": "code",
      "execution_count": 48,
      "metadata": {},
      "outputs": [
        {
          "data": {
            "text/plain": [
              "[40, 2, 3, 2.2, 'World']"
            ]
          },
          "execution_count": 48,
          "metadata": {},
          "output_type": "execute_result"
        }
      ],
      "source": [
        "lst[0]=40\n",
        "lst"
      ]
    },
    {
      "cell_type": "code",
      "execution_count": 8,
      "metadata": {
        "colab": {
          "base_uri": "https://localhost:8080/"
        },
        "id": "IAzGTUj3_guW",
        "outputId": "301f11eb-573b-4842-e70d-79149da2f745"
      },
      "outputs": [
        {
          "data": {
            "text/plain": [
              "(1, 'World')"
            ]
          },
          "execution_count": 8,
          "metadata": {},
          "output_type": "execute_result"
        }
      ],
      "source": [
        "lst[0], lst[-1]"
      ]
    },
    {
      "cell_type": "code",
      "execution_count": 39,
      "metadata": {
        "colab": {
          "base_uri": "https://localhost:8080/"
        },
        "id": "QDK4Bu4Q9Cx3",
        "outputId": "aeb2b6f8-3839-40f5-d587-ab306f230036"
      },
      "outputs": [
        {
          "name": "stdout",
          "output_type": "stream",
          "text": [
            "A: {1, 2, 3}, B: {2, 5}\n"
          ]
        }
      ],
      "source": [
        "# Set\n",
        "A = set([1,2,3,3]) # to dedupe\n",
        "B = set([2,5])\n",
        "print(f\"A: {A}, B: {B}\")"
      ]
    },
    {
      "cell_type": "code",
      "execution_count": 40,
      "metadata": {
        "colab": {
          "base_uri": "https://localhost:8080/"
        },
        "id": "uVxWZH9e9C32",
        "outputId": "9219a663-bb38-4e5c-a306-2e580312c663"
      },
      "outputs": [
        {
          "name": "stdout",
          "output_type": "stream",
          "text": [
            "A Union B: {1, 2, 3, 5}\n",
            "A intersection B: {2}\n",
            "Values of A not in B (A-B): {1, 3}\n",
            "Values of A not in B (A-B): {5}\n"
          ]
        }
      ],
      "source": [
        "print(f\"A Union B: {A.union(B)}\")\n",
        "print(f\"A intersection B: {A.intersection(B)}\")\n",
        "print(f\"Values of A not in B (A-B): {A-B}\")\n",
        "print(f\"Values of A not in B (A-B): {B-A}\")"
      ]
    },
    {
      "cell_type": "code",
      "execution_count": 41,
      "metadata": {},
      "outputs": [],
      "source": [
        "x = {\n",
        "    \"A\": 2,\n",
        "    \"B\": {\n",
        "\n",
        "    },\n",
        "    \"C\": []\n",
        "}"
      ]
    },
    {
      "cell_type": "code",
      "execution_count": 42,
      "metadata": {},
      "outputs": [
        {
          "data": {
            "text/plain": [
              "2"
            ]
          },
          "execution_count": 42,
          "metadata": {},
          "output_type": "execute_result"
        }
      ],
      "source": [
        "x[\"A\"]"
      ]
    },
    {
      "cell_type": "code",
      "execution_count": 11,
      "metadata": {
        "colab": {
          "base_uri": "https://localhost:8080/"
        },
        "id": "NTikotfE99Kv",
        "outputId": "3b5654b2-e92d-47d2-a1a5-ae037859efce"
      },
      "outputs": [
        {
          "name": "stdout",
          "output_type": "stream",
          "text": [
            "<class 'dict'>\n",
            "{'sections': [{'name': 'A01', 'TA': 'Abdullah', 'IA': 'Kyra', 'students': ['abc', 'def']}, {}]}\n"
          ]
        }
      ],
      "source": [
        "# Dictionary (JSON)\n",
        "\n",
        "cogs_9 = {\n",
        "    \"sections\": [\n",
        "        {\n",
        "            \"name\": \"A01\",\n",
        "            \"TA\": \"Abdullah\",\n",
        "            \"IA\": \"Kyra\",\n",
        "            \"students\":[\"abc\",\"def\"]\n",
        "        },\n",
        "        {}\n",
        "    ]\n",
        "}\n",
        "\n",
        "print(type(cogs_9))\n",
        "print(cogs_9)"
      ]
    },
    {
      "cell_type": "code",
      "execution_count": 46,
      "metadata": {},
      "outputs": [
        {
          "data": {
            "text/plain": [
              "['abc', 'def']"
            ]
          },
          "execution_count": 46,
          "metadata": {},
          "output_type": "execute_result"
        }
      ],
      "source": [
        "cogs_9[\"sections\"][0][\"students\"]"
      ]
    },
    {
      "cell_type": "code",
      "execution_count": 12,
      "metadata": {
        "colab": {
          "base_uri": "https://localhost:8080/"
        },
        "id": "aFJCGprf_ZFa",
        "outputId": "4a28a089-b128-4198-f0ab-83685e255a47"
      },
      "outputs": [
        {
          "data": {
            "text/plain": [
              "{'name': 'A01', 'TA': 'Abdullah', 'IA': 'Kyra', 'students': ['abc', 'def']}"
            ]
          },
          "execution_count": 12,
          "metadata": {},
          "output_type": "execute_result"
        }
      ],
      "source": [
        "# retrieval from dict is by key and not index\n",
        "cogs_9['sections'][0]"
      ]
    },
    {
      "cell_type": "code",
      "execution_count": 50,
      "metadata": {
        "colab": {
          "base_uri": "https://localhost:8080/"
        },
        "id": "08APoyWVAHgE",
        "outputId": "eb5cc9c7-32bc-498e-d361-88301122fda7"
      },
      "outputs": [
        {
          "name": "stdout",
          "output_type": "stream",
          "text": [
            "(1, 2, 3)\n"
          ]
        }
      ],
      "source": [
        "# tuple\n",
        "tup1 = (1,2,3)\n",
        "print(tup1)"
      ]
    },
    {
      "cell_type": "code",
      "execution_count": 51,
      "metadata": {},
      "outputs": [
        {
          "ename": "TypeError",
          "evalue": "'tuple' object does not support item assignment",
          "output_type": "error",
          "traceback": [
            "\u001b[1;31m---------------------------------------------------------------------------\u001b[0m",
            "\u001b[1;31mTypeError\u001b[0m                                 Traceback (most recent call last)",
            "Cell \u001b[1;32mIn[51], line 1\u001b[0m\n\u001b[1;32m----> 1\u001b[0m \u001b[43mtup1\u001b[49m\u001b[43m[\u001b[49m\u001b[38;5;241;43m0\u001b[39;49m\u001b[43m]\u001b[49m \u001b[38;5;241m=\u001b[39m \u001b[38;5;241m10\u001b[39m\n",
            "\u001b[1;31mTypeError\u001b[0m: 'tuple' object does not support item assignment"
          ]
        }
      ],
      "source": [
        "tup1[0] = 10"
      ]
    },
    {
      "cell_type": "markdown",
      "metadata": {
        "id": "C7Z3jZioAdgy"
      },
      "source": [
        "## Conditionals and Loops"
      ]
    },
    {
      "cell_type": "code",
      "execution_count": 53,
      "metadata": {
        "colab": {
          "base_uri": "https://localhost:8080/"
        },
        "id": "4OtTIQjKAdly",
        "outputId": "ece24716-02cd-4e29-f7bb-61205d55f254"
      },
      "outputs": [
        {
          "name": "stdout",
          "output_type": "stream",
          "text": [
            "less than 5\n"
          ]
        }
      ],
      "source": [
        "x = 4\n",
        "if x<5:\n",
        "  print(\"less than 5\")\n",
        "else:\n",
        "  print(\"more than 5\")"
      ]
    },
    {
      "cell_type": "code",
      "execution_count": 55,
      "metadata": {
        "colab": {
          "base_uri": "https://localhost:8080/",
          "height": 109
        },
        "id": "EuTHFlb4_vYM",
        "outputId": "2ea0c187-3fc6-47fd-d656-d2c6872cb76d"
      },
      "outputs": [
        {
          "name": "stdout",
          "output_type": "stream",
          "text": [
            "less than 5\n",
            "less than 6\n"
          ]
        }
      ],
      "source": [
        "x=4 # 4,5,6\n",
        "\n",
        "if x<5:\n",
        "  print(\"less than 5\")\n",
        "else:\n",
        "  print()\n",
        "\n",
        "\n",
        "if x<6:\n",
        "  print(\"less than 6\")\n",
        "elif x==5:\n",
        "  print(\"equal to 5\")\n",
        "else:\n",
        "  print(\"more than 5\")"
      ]
    },
    {
      "cell_type": "code",
      "execution_count": null,
      "metadata": {},
      "outputs": [],
      "source": [
        "float()"
      ]
    },
    {
      "cell_type": "code",
      "execution_count": 56,
      "metadata": {
        "colab": {
          "base_uri": "https://localhost:8080/"
        },
        "id": "KxELw3RKBVRj",
        "outputId": "0340243e-2055-4d44-e8e0-1cbbf414848f"
      },
      "outputs": [
        {
          "data": {
            "text/plain": [
              "2"
            ]
          },
          "execution_count": 56,
          "metadata": {},
          "output_type": "execute_result"
        }
      ],
      "source": [
        "## conversion\n",
        "int(2.25)"
      ]
    },
    {
      "cell_type": "code",
      "execution_count": 17,
      "metadata": {
        "colab": {
          "base_uri": "https://localhost:8080/"
        },
        "id": "MhzL-F19AxOY",
        "outputId": "403df126-8e8c-41d4-fe80-cdef02f4775a"
      },
      "outputs": [
        {
          "data": {
            "text/plain": [
              "[0, 1, 2, 3, 4, 5, 6, 7, 8, 9]"
            ]
          },
          "execution_count": 17,
          "metadata": {},
          "output_type": "execute_result"
        }
      ],
      "source": [
        "list(range(10))"
      ]
    },
    {
      "cell_type": "code",
      "execution_count": 18,
      "metadata": {
        "colab": {
          "base_uri": "https://localhost:8080/"
        },
        "id": "3YqE0QmkBOHA",
        "outputId": "fef202ab-85d0-4d34-93c3-b58b5f2882b1"
      },
      "outputs": [
        {
          "name": "stdout",
          "output_type": "stream",
          "text": [
            "0\n",
            "1\n",
            "2\n",
            "3\n",
            "4\n"
          ]
        }
      ],
      "source": [
        "for i in range(5):\n",
        "  print(i)"
      ]
    },
    {
      "cell_type": "code",
      "execution_count": 58,
      "metadata": {
        "colab": {
          "base_uri": "https://localhost:8080/"
        },
        "id": "iKa__eiGBOJH",
        "outputId": "1a417b65-d65f-4a87-d459-452c72616333"
      },
      "outputs": [
        {
          "name": "stdout",
          "output_type": "stream",
          "text": [
            "40\n",
            "2\n",
            "3\n",
            "2.2\n",
            "World\n"
          ]
        }
      ],
      "source": [
        "for i in lst:\n",
        "  print(i)"
      ]
    },
    {
      "cell_type": "code",
      "execution_count": null,
      "metadata": {
        "id": "83lmWCrYBk9l"
      },
      "outputs": [],
      "source": [
        "print(), list(), set()"
      ]
    },
    {
      "cell_type": "markdown",
      "metadata": {
        "id": "38HqvPKBBqlo"
      },
      "source": [
        "## Functions\n",
        "\n",
        "A function is a block of code which only runs when it is called.\n",
        "\n",
        "You can pass data, known as parameters, into a function.\n",
        "\n",
        "A function can return data as a result."
      ]
    },
    {
      "cell_type": "code",
      "execution_count": 59,
      "metadata": {
        "id": "OC37oBBuBqrh"
      },
      "outputs": [],
      "source": [
        "def my_function():\n",
        "  print(\"Hello from a function\")"
      ]
    },
    {
      "cell_type": "code",
      "execution_count": 60,
      "metadata": {
        "colab": {
          "base_uri": "https://localhost:8080/"
        },
        "id": "QtXygVKHBrFf",
        "outputId": "76e53007-6757-4a3b-b7b5-852001ea6885"
      },
      "outputs": [
        {
          "name": "stdout",
          "output_type": "stream",
          "text": [
            "Hello from a function\n"
          ]
        }
      ],
      "source": [
        "my_function()"
      ]
    },
    {
      "cell_type": "code",
      "execution_count": 22,
      "metadata": {
        "id": "OWPbVf5UBzWV"
      },
      "outputs": [],
      "source": [
        "def say_hello_to(name):\n",
        "  print(f\"Hello {name}!\")"
      ]
    },
    {
      "cell_type": "code",
      "execution_count": 23,
      "metadata": {
        "colab": {
          "base_uri": "https://localhost:8080/"
        },
        "id": "QYCBvZxXB_Fp",
        "outputId": "c4ea18d5-24a4-4506-f8d4-e6ec3e22b878"
      },
      "outputs": [
        {
          "name": "stdout",
          "output_type": "stream",
          "text": [
            "Hello Kyra!\n"
          ]
        }
      ],
      "source": [
        "say_hello_to(\"Kyra\")"
      ]
    },
    {
      "cell_type": "code",
      "execution_count": 24,
      "metadata": {
        "id": "asnhw2sKCDat"
      },
      "outputs": [],
      "source": [
        "## return a value\n",
        "def modify_input(x):\n",
        "  x = x*2\n",
        "  return x"
      ]
    },
    {
      "cell_type": "code",
      "execution_count": 25,
      "metadata": {
        "colab": {
          "base_uri": "https://localhost:8080/"
        },
        "id": "McmuLfstCKUl",
        "outputId": "48aeaad9-0ad4-408c-fd7b-b190b067297d"
      },
      "outputs": [
        {
          "name": "stdout",
          "output_type": "stream",
          "text": [
            "Function returned 6\n"
          ]
        }
      ],
      "source": [
        "ret = modify_input(3)\n",
        "print(f\"Function returned {ret}\")"
      ]
    },
    {
      "cell_type": "markdown",
      "metadata": {
        "id": "YRD5ZcQ4CoXw"
      },
      "source": [
        "## Classes\n",
        "\n",
        "A Class is like an object constructor, or a \"blueprint\" for creating objects."
      ]
    },
    {
      "cell_type": "code",
      "execution_count": 64,
      "metadata": {
        "id": "5zFC_Xf3Cogb"
      },
      "outputs": [],
      "source": [
        "class MyClass():\n",
        "  def __init__(self): # Constructor\n",
        "    self.x = 2\n",
        "\n",
        "  def double_x(self): # self is required if we want to\n",
        "    self.x = self.x*2\n",
        "\n",
        "  def multiply_by_x(self, y):\n",
        "    self.x = self.x*y"
      ]
    },
    {
      "cell_type": "code",
      "execution_count": null,
      "metadata": {},
      "outputs": [],
      "source": []
    },
    {
      "cell_type": "code",
      "execution_count": 63,
      "metadata": {
        "colab": {
          "base_uri": "https://localhost:8080/"
        },
        "id": "RihvcWUnCo_R",
        "outputId": "b195d2e0-ac61-42da-e075-dfab09647fa7"
      },
      "outputs": [
        {
          "name": "stdout",
          "output_type": "stream",
          "text": [
            "2\n"
          ]
        }
      ],
      "source": [
        "obj = MyClass()\n",
        "print(obj.x)"
      ]
    },
    {
      "cell_type": "code",
      "execution_count": 65,
      "metadata": {
        "colab": {
          "base_uri": "https://localhost:8080/"
        },
        "id": "w4PW4_UqDnpj",
        "outputId": "4fdebda0-7eaa-4475-e62e-21bd84d0224b"
      },
      "outputs": [
        {
          "name": "stdout",
          "output_type": "stream",
          "text": [
            "4\n"
          ]
        }
      ],
      "source": [
        "obj.double_x()\n",
        "print(obj.x)"
      ]
    },
    {
      "cell_type": "code",
      "execution_count": 29,
      "metadata": {
        "id": "LbWghUWxCL-X"
      },
      "outputs": [],
      "source": [
        "class Person: # blueprint\n",
        "  def __init__(self, name, age):\n",
        "    self.name = name\n",
        "    self.age = age\n",
        "\n",
        "  def add_to_age(self, x):\n",
        "    self.age += x\n"
      ]
    },
    {
      "cell_type": "code",
      "execution_count": 70,
      "metadata": {
        "colab": {
          "base_uri": "https://localhost:8080/"
        },
        "id": "DeJtWpHpD0_C",
        "outputId": "64029233-59df-487b-ae40-4ab5e17a7886"
      },
      "outputs": [
        {
          "name": "stdout",
          "output_type": "stream",
          "text": [
            "John   36\n"
          ]
        }
      ],
      "source": [
        "p1 = Person(\"John\", 36)\n",
        "\n",
        "print(p1.name, \" \", p1.age)"
      ]
    },
    {
      "cell_type": "code",
      "execution_count": 71,
      "metadata": {},
      "outputs": [],
      "source": [
        "p2 = Person(\"Kyra\", 22)"
      ]
    },
    {
      "cell_type": "code",
      "execution_count": 72,
      "metadata": {
        "colab": {
          "base_uri": "https://localhost:8080/"
        },
        "id": "2ikmBcXZECI3",
        "outputId": "bed27298-349d-4035-fcb8-498af56e1943"
      },
      "outputs": [
        {
          "name": "stdout",
          "output_type": "stream",
          "text": [
            "John   39\n"
          ]
        }
      ],
      "source": [
        "p1.add_to_age(3)\n",
        "print(p1.name, \" \", p1.age)"
      ]
    },
    {
      "cell_type": "code",
      "execution_count": null,
      "metadata": {
        "id": "6eFLPMr5ELE1"
      },
      "outputs": [],
      "source": []
    },
    {
      "cell_type": "markdown",
      "metadata": {
        "id": "FrVkLFxqESDv"
      },
      "source": [
        "### Why learning about classes?\n",
        "\n",
        "Sneakpeak of next week's lecture"
      ]
    },
    {
      "cell_type": "code",
      "execution_count": 73,
      "metadata": {
        "id": "x8hp1ASKESMa"
      },
      "outputs": [],
      "source": [
        "import pandas as pd"
      ]
    },
    {
      "cell_type": "code",
      "execution_count": 74,
      "metadata": {
        "colab": {
          "base_uri": "https://localhost:8080/",
          "height": 206
        },
        "id": "vXJ-gGuLEfXM",
        "outputId": "c527daa5-a04b-4b67-fcf7-79663c8ba0e8"
      },
      "outputs": [],
      "source": [
        "iris = pd.read_csv('https://raw.githubusercontent.com/mwaskom/seaborn-data/master/iris.csv')\n"
      ]
    },
    {
      "cell_type": "code",
      "execution_count": 75,
      "metadata": {},
      "outputs": [
        {
          "data": {
            "text/plain": [
              "pandas.core.frame.DataFrame"
            ]
          },
          "execution_count": 75,
          "metadata": {},
          "output_type": "execute_result"
        }
      ],
      "source": [
        "type(iris)"
      ]
    },
    {
      "cell_type": "code",
      "execution_count": 76,
      "metadata": {
        "id": "LPR2EWirExab"
      },
      "outputs": [
        {
          "data": {
            "text/html": [
              "<div>\n",
              "<style scoped>\n",
              "    .dataframe tbody tr th:only-of-type {\n",
              "        vertical-align: middle;\n",
              "    }\n",
              "\n",
              "    .dataframe tbody tr th {\n",
              "        vertical-align: top;\n",
              "    }\n",
              "\n",
              "    .dataframe thead th {\n",
              "        text-align: right;\n",
              "    }\n",
              "</style>\n",
              "<table border=\"1\" class=\"dataframe\">\n",
              "  <thead>\n",
              "    <tr style=\"text-align: right;\">\n",
              "      <th></th>\n",
              "      <th>sepal_length</th>\n",
              "      <th>sepal_width</th>\n",
              "      <th>petal_length</th>\n",
              "      <th>petal_width</th>\n",
              "      <th>species</th>\n",
              "    </tr>\n",
              "  </thead>\n",
              "  <tbody>\n",
              "    <tr>\n",
              "      <th>0</th>\n",
              "      <td>5.1</td>\n",
              "      <td>3.5</td>\n",
              "      <td>1.4</td>\n",
              "      <td>0.2</td>\n",
              "      <td>setosa</td>\n",
              "    </tr>\n",
              "    <tr>\n",
              "      <th>1</th>\n",
              "      <td>4.9</td>\n",
              "      <td>3.0</td>\n",
              "      <td>1.4</td>\n",
              "      <td>0.2</td>\n",
              "      <td>setosa</td>\n",
              "    </tr>\n",
              "    <tr>\n",
              "      <th>2</th>\n",
              "      <td>4.7</td>\n",
              "      <td>3.2</td>\n",
              "      <td>1.3</td>\n",
              "      <td>0.2</td>\n",
              "      <td>setosa</td>\n",
              "    </tr>\n",
              "    <tr>\n",
              "      <th>3</th>\n",
              "      <td>4.6</td>\n",
              "      <td>3.1</td>\n",
              "      <td>1.5</td>\n",
              "      <td>0.2</td>\n",
              "      <td>setosa</td>\n",
              "    </tr>\n",
              "    <tr>\n",
              "      <th>4</th>\n",
              "      <td>5.0</td>\n",
              "      <td>3.6</td>\n",
              "      <td>1.4</td>\n",
              "      <td>0.2</td>\n",
              "      <td>setosa</td>\n",
              "    </tr>\n",
              "  </tbody>\n",
              "</table>\n",
              "</div>"
            ],
            "text/plain": [
              "   sepal_length  sepal_width  petal_length  petal_width species\n",
              "0           5.1          3.5           1.4          0.2  setosa\n",
              "1           4.9          3.0           1.4          0.2  setosa\n",
              "2           4.7          3.2           1.3          0.2  setosa\n",
              "3           4.6          3.1           1.5          0.2  setosa\n",
              "4           5.0          3.6           1.4          0.2  setosa"
            ]
          },
          "execution_count": 76,
          "metadata": {},
          "output_type": "execute_result"
        }
      ],
      "source": [
        "iris.head()"
      ]
    },
    {
      "cell_type": "code",
      "execution_count": null,
      "metadata": {},
      "outputs": [],
      "source": []
    }
  ],
  "metadata": {
    "colab": {
      "provenance": []
    },
    "kernelspec": {
      "display_name": "Python 3",
      "name": "python3"
    },
    "language_info": {
      "codemirror_mode": {
        "name": "ipython",
        "version": 3
      },
      "file_extension": ".py",
      "mimetype": "text/x-python",
      "name": "python",
      "nbconvert_exporter": "python",
      "pygments_lexer": "ipython3",
      "version": "3.11.5"
    }
  },
  "nbformat": 4,
  "nbformat_minor": 0
}
